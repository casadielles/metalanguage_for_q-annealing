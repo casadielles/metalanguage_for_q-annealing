{
 "cells": [
  {
   "cell_type": "markdown",
   "metadata": {},
   "source": [
    "Supongamos tenemos variables x0, x1, x2, x3\n",
    "\n",
    "Tenemos que la base generadora del espacio vectorial es ...\n",
    "\n",
    "{0, 1, 2, 3}\n",
    "\n",
    "`Q = < Objeto Matriz>`\n",
    "\n",
    "`Q.variables(\"x0\", \"x1\", \"x2\", \"x2\")`        \n",
    "\n",
    "esto crea un diccionario los índices como claves y el valores por defecto de 0:\n",
    "\n",
    "{0:0, 1:0, 2:0, 3:0}\n",
    "\n",
    "clave 0 hace referencia a variable \"x0\"\n",
    "clave 1 hace referencia a variable \"x1\"\n",
    "clave 2 hace referencia a variable \"x2\"\n",
    "clave 3 hace referencia a variable \"x3\"\n",
    "\n",
    "Si queremos escribir la sumatoria (interacción 1ros vecinos)...\n",
    "\n",
    " $ \\sum_{i=0}^{3} f(i)x_i x_{i+1}$\n",
    "\n",
    "Q.interactions((i)x(i+1)) = f(i)\n",
    "\n",
    "el dictionario input de DWave es {(0,1):f(0), (1,2):f(1), (2,3):f(2)}\n",
    " \n"
   ]
  },
  {
   "cell_type": "raw",
   "metadata": {},
   "source": [
    "(01), (12), (23)\n",
    "\n",
    "   0 1 2 3\n",
    "0    *  \n",
    "1      * \n",
    "2        *  \n",
    "3\n"
   ]
  },
  {
   "cell_type": "markdown",
   "metadata": {},
   "source": [
    "Si queremos escribir la sumatoria (interacción 2dos vecinos)...\n",
    "\n",
    " $ \\sum_{i=0}^{3} f(i)x_i x_{i+2}$\n",
    "\n",
    "Q.interactions((i)x(i+2)) = f(i)\n",
    "\n",
    "el dictionario input de DWave es {(0,2):f(0), (1,3):f(1)}\n",
    " "
   ]
  },
  {
   "cell_type": "raw",
   "metadata": {},
   "source": [
    "(02), (13)\n",
    "\n",
    "   0 1 2 3\n",
    "0      * \n",
    "1        *\n",
    "2          \n",
    "3\n"
   ]
  },
  {
   "cell_type": "markdown",
   "metadata": {},
   "source": [
    "Si queremos escribir términos lineales ...\n",
    "\n",
    " $ \\sum_{i=0}^{3} f(i)x_i x_{i}$\n",
    "\n",
    "Q.interactions((i)x(i)) = f(i)\n",
    "\n",
    "el dictionario input de DWave es {(0,0):f(0), (1,1):f(1), (2,2):f(2), (3,3):f(3)}\n",
    " "
   ]
  },
  {
   "cell_type": "raw",
   "metadata": {},
   "source": [
    "   0 1 2 3\n",
    "0  *  \n",
    "1    * \n",
    "2      *  \n",
    "3        *   \n"
   ]
  },
  {
   "cell_type": "markdown",
   "metadata": {},
   "source": [
    "Si queremos escribir la doble sumatoria (el famoso \"todos contra todos\")...\n",
    "\n",
    " $ \\sum_{i=0}^{3}\\sum_{j>i}^{3} f(i,j)x_i x_{j}$\n",
    " \n",
    " \n",
    " `Q.interactions((i)x(j)) = f(i,j)`"
   ]
  },
  {
   "cell_type": "raw",
   "metadata": {},
   "source": [
    "(01), (02), (03), (12), (13), (23)\n",
    "\n",
    "   0 1 2 3\n",
    "0    * * *\n",
    "1      * *\n",
    "2        *  \n",
    "3\n"
   ]
  },
  {
   "cell_type": "raw",
   "metadata": {},
   "source": [
    "Hardcoding\n",
    "\n",
    "\n",
    "Q.interactions((0)x(3)) = f(0,3)\n",
    "Q.interactions((1)x(2)) = f(1,2)\n",
    "\n",
    "   0 1 2 3\n",
    "0        *\n",
    "1      * \n",
    "2          \n",
    "3"
   ]
  },
  {
   "cell_type": "raw",
   "metadata": {},
   "source": [
    "Ampliemos la dimensión del problema al agregar un tipo de variable nuevo.\n",
    "\n",
    "Además de las variables tipo  x0, x1, x2, x3\n",
    "\n",
    "ahora tenemos las tipo  y0, y1, y2, y3\n",
    "\n",
    "\n",
    "El interés del usuario será controlar el estado de la variable compuesta xiyj que denotaremos zk\n",
    "pudiendo siempre trackear los índices i, j que son los que hacen referencia\n",
    "a las propiedades reales del problema (por ejemplo, índice i indica enfermera, índice j un día),\n",
    "mientras que el índice k hace referencia al orden de la base en la matriz que al usuario poco le importa.\n",
    "\n",
    "x0y0  x0y1  x0y2 x0y3 x1y0 ..... \n",
    "\n",
    " z0    z1    z2  ....\n",
    "\n",
    "Aquí tenemos la siguiente base:\n",
    "\n",
    "{00, 01, 02, 03\n",
    "10, 11, 12, 13\n",
    "20, 21, 22, 23\n",
    "30, 31, 32, 33}\n",
    "\n",
    "La dimensión del problema es 16 (16 variables compuestas)\n",
    "\n",
    "Tenemos una matriz de (4*4)**2 = 256 entradas (256/2=128 usamos)\n",
    "\n",
    "\n",
    "Para hacer el join de las variables:\n",
    "\n",
    "Q.variables(x_user,y_user)\n",
    "\n",
    "donde x_user es una lista de variables xi que deben ser todas de un mismo tipo str() o \n",
    "un mismo tipo int() \n",
    "\n",
    "Ejemplo con tipo srt() ...\n",
    "\n",
    "x_user = ['x0', 'x1', 'x2', etc ]\n",
    "\n",
    "Ejemplo con tipo int() ...\n",
    "\n",
    "x = [0,1,2, ...etc]\n",
    "\n",
    "Lo mismo sucede con el otro tipo de variable y_user.\n",
    " \n",
    "\n"
   ]
  },
  {
   "cell_type": "code",
   "execution_count": 118,
   "metadata": {},
   "outputs": [
    {
     "name": "stdout",
     "output_type": "stream",
     "text": [
      "{'silla_de_oficina': 0, 'sillon_de_salon': 1, 'asiento_de_avión': 1, 'asiento_de_bicicleta': 0}\n"
     ]
    }
   ],
   "source": [
    "x_user = [\"silla_de_oficina\", \"sillon_de_salon\", \"asiento_de_avión\", \"asiento_de_bicicleta\"]\n",
    "\n",
    "\n",
    "x_ = []\n",
    "\n",
    "for _ in range(len(x_user)):\n",
    "    x_.append(_)\n",
    "\n",
    "dwave_out = [0, 1, 1, 0]    \n",
    " \n",
    "solution = {}    \n",
    "for _ , __  in enumerate(dwave_out):\n",
    "    solution[x_user[_]]= __\n",
    "    \n",
    "print(solution)"
   ]
  },
  {
   "cell_type": "markdown",
   "metadata": {},
   "source": [
    "Hard nurse constraint\n",
    "\n",
    "no two consecutive days of work for each nurse \n",
    "\n",
    "$\\sum_n  \\sum_d a\\text{ } z_{n,d}z_{n,d+1} $"
   ]
  },
  {
   "cell_type": "raw",
   "metadata": {},
   "source": [
    "Q.interactions((n,d)x(n,d+1)) = a"
   ]
  },
  {
   "cell_type": "raw",
   "metadata": {},
   "source": [
    "el diccionario input de DWave es:\n",
    "\n",
    "{... (n,d,n,d+1):a ....}"
   ]
  },
  {
   "cell_type": "code",
   "execution_count": 107,
   "metadata": {},
   "outputs": [
    {
     "name": "stdout",
     "output_type": "stream",
     "text": [
      "this is the input dictionary for DWave:\n",
      "{(0, 1): 'a', (1, 2): 'a', (3, 4): 'a', (4, 5): 'a'}\n",
      "this is the dictionary for the user:\n",
      "order of the basis: x y x' y'\n",
      "{(0, 0, 0, 1): 'a', (0, 1, 0, 2): 'a', (1, 0, 1, 1): 'a', (1, 1, 1, 2): 'a'}\n"
     ]
    }
   ],
   "source": [
    "# user variables initialization\n",
    "\n",
    "x = [0, 1]\n",
    "y = [0, 1,2]\n",
    "\n",
    "z = {}\n",
    "\n",
    "Q = {}\n",
    "\n",
    "for i1 in x:\n",
    "    for j1 in y:\n",
    "        index_i = i1*len(y) + j1\n",
    "        for i2 in x:\n",
    "            for j2 in y:\n",
    "                if i1!=i2: continue\n",
    "                if j1+1!=j2: continue\n",
    "                index_j = i2*len(y) + j2    \n",
    "                z[(i1,j1,i2,j2)] = \"a\"  # the last tuple are the index of the matrix Q\n",
    "                Q[(index_i, index_j)] = \"a\"\n",
    "                \n",
    "\n",
    "print(\"this is the input dictionary for DWave:\")\n",
    "                \n",
    "print(Q)\n",
    "                   \n",
    "print(\"this is the dictionary for the user:\")\n",
    "print(\"order of the basis: x y x' y'\")              \n",
    "    \n",
    "    \n",
    "print(z)\n",
    "                   \n",
    "\n"
   ]
  },
  {
   "cell_type": "code",
   "execution_count": 102,
   "metadata": {},
   "outputs": [
    {
     "name": "stdout",
     "output_type": "stream",
     "text": [
      "this is the input dictionary for DWave:\n",
      "{(0, 1): 'a', (1, 2): 'a', (3, 4): 'a', (4, 5): 'a'}\n",
      "this is the dictionary for the user:\n",
      "order of the basis: x y x' y'\n",
      "{(0, 0, 0, 1): 'a', (0, 1, 0, 2): 'a', (1, 0, 1, 1): 'a', (1, 1, 1, 2): 'a'}\n"
     ]
    }
   ],
   "source": [
    "# user variables initialization\n",
    "\n",
    "x = {0:0, 1:0}\n",
    "y = {0:0, 1:0,2:0}\n",
    "\n",
    "z = {}\n",
    "\n",
    "Q = {}\n",
    "\n",
    "for i1 in x.keys():\n",
    "    for j1 in y.keys():\n",
    "        index_i = i1*len(y) + j1\n",
    "        for i2 in x.keys():\n",
    "            for j2 in y.keys():\n",
    "                if i1!=i2: continue\n",
    "                if j1+1!=j2: continue\n",
    "                index_j = i2*len(y) + j2    \n",
    "                z[(i1,j1,i2,j2)] = \"a\"  # the last tuple are the index of the matrix Q\n",
    "                Q[(index_i, index_j)] = \"a\"\n",
    "                \n",
    "\n",
    "print(\"this is the input dictionary for DWave:\")\n",
    "                \n",
    "print(Q)\n",
    "                   \n",
    "print(\"this is the dictionary for the user:\")\n",
    "print(\"order of the basis: x y x' y'\")              \n",
    "    \n",
    "    \n",
    "print(z)\n",
    "                   \n",
    "\n"
   ]
  },
  {
   "cell_type": "markdown",
   "metadata": {},
   "source": [
    "Hard shift constraint\n",
    "\n",
    "One (and only one) nurse working every day\n",
    "\n",
    "$\\sum_d  \\left (  \\sum_n z_{n,d} -1 \\right )^2  = $ \n",
    "$days - \\sum_d \\sum_n z_{n,d}  + \\sum_d \\sum_n \\sum_{m>n} z_{n,d}z_{m,d}  $\n"
   ]
  },
  {
   "cell_type": "raw",
   "metadata": {},
   "source": [
    "Q.interactions(\"offset\") = days\n",
    "Q.interactions((n,d)x(n,d)) = -1\n",
    "Q.interactions((n,d)x(m>n,d)) = 1\n",
    "\n"
   ]
  },
  {
   "cell_type": "markdown",
   "metadata": {},
   "source": [
    "Q.interactions((n,d)x(n,d)) = -1"
   ]
  },
  {
   "cell_type": "code",
   "execution_count": 103,
   "metadata": {},
   "outputs": [
    {
     "name": "stdout",
     "output_type": "stream",
     "text": [
      "this is the input dictionary for DWave:\n",
      "{(0, 0): '-1', (1, 1): '-1', (2, 2): '-1', (3, 3): '-1', (4, 4): '-1', (5, 5): '-1'}\n",
      "this is the dictionary for the user:\n",
      "order of the basis: x y x' y'\n",
      "{(0, 0, 0, 0): '-1', (0, 1, 0, 1): '-1', (0, 2, 0, 2): '-1', (1, 0, 1, 0): '-1', (1, 1, 1, 1): '-1', (1, 2, 1, 2): '-1'}\n"
     ]
    }
   ],
   "source": [
    "z = {}\n",
    "\n",
    "Q = {}\n",
    "\n",
    "for i1 in x.keys():\n",
    "    for j1 in y.keys():\n",
    "        index_i = i1*len(y) + j1\n",
    "        for i2 in x.keys():\n",
    "            for j2 in y.keys():\n",
    "                if i1!=i2: continue\n",
    "                if j1!=j2: continue\n",
    "                index_j = i2*len(y) + j2    \n",
    "                z[(i1,j1,i2,j2)] = \"-1\"  # the last tuple are the index of the matrix Q\n",
    "                Q[(index_i, index_j)] = \"-1\"\n",
    "\n",
    "print(\"this is the input dictionary for DWave:\")\n",
    "                \n",
    "print(Q)\n",
    "                   \n",
    "print(\"this is the dictionary for the user:\")\n",
    "print(\"order of the basis: x y x' y'\")              \n",
    "    \n",
    "    \n",
    "print(z)"
   ]
  },
  {
   "cell_type": "markdown",
   "metadata": {},
   "source": [
    "Q.interactions((n,d)x(m>n,d)) = 1"
   ]
  },
  {
   "cell_type": "code",
   "execution_count": 104,
   "metadata": {
    "scrolled": true
   },
   "outputs": [
    {
     "name": "stdout",
     "output_type": "stream",
     "text": [
      "this is the input dictionary for DWave:\n",
      "{(0, 3): '-1', (1, 4): '-1', (2, 5): '-1'}\n",
      "this is the dictionary for the user:\n",
      "order of the basis: x y x' y'\n",
      "{(0, 0, 1, 0): '-1', (0, 1, 1, 1): '-1', (0, 2, 1, 2): '-1'}\n"
     ]
    }
   ],
   "source": [
    "z = {}\n",
    "\n",
    "Q = {}\n",
    "\n",
    "for i1 in x.keys():\n",
    "    for j1 in y.keys():\n",
    "        index_i = i1*len(y) + j1\n",
    "        for i2 in x.keys():\n",
    "            for j2 in y.keys():\n",
    "                if i1>=i2: continue\n",
    "                if j1!=j2: continue\n",
    "                index_j = i2*len(y) + j2    \n",
    "                z[(i1,j1,i2,j2)] = \"-1\"  # the last tuple are the index of the matrix Q\n",
    "                Q[(index_i, index_j)] = \"-1\"\n",
    "\n",
    "print(\"this is the input dictionary for DWave:\")\n",
    "                \n",
    "print(Q)\n",
    "                   \n",
    "print(\"this is the dictionary for the user:\")\n",
    "print(\"order of the basis: x y x' y'\")              \n",
    "    \n",
    "    \n",
    "print(z)"
   ]
  },
  {
   "cell_type": "markdown",
   "metadata": {},
   "source": [
    "Soft nurse constraint\n",
    "\n",
    "all nurses should have approximately even work schedules\n",
    "\n",
    "$\\sum_n  \\left (  \\sum_d z_{n,d} - \\text{duty_days} \\right )^2  = $\n",
    "$\\left ( 1-2   \\text{duty_days} \\right ) \\sum_n \\sum_d z_{n,d}\n",
    "+\\sum_n \\sum_d \\sum_{m>d} z_{n,d}z_{n,m} \n",
    "+n \\text{  duty_days}^2$"
   ]
  },
  {
   "cell_type": "raw",
   "metadata": {},
   "source": [
    "Q.interactions((n,d)x(n,d)) += 1-2 duty_days\n",
    "Q.interactions((n,d)x(n,m>d)) += 1\n",
    "Q.interactions(\"offset\") = n * duty_days**2"
   ]
  },
  {
   "cell_type": "markdown",
   "metadata": {},
   "source": [
    "Q.interactions((n,d)x(n,m>d)) += 1"
   ]
  },
  {
   "cell_type": "code",
   "execution_count": 105,
   "metadata": {
    "scrolled": true
   },
   "outputs": [
    {
     "name": "stdout",
     "output_type": "stream",
     "text": [
      "this is the input dictionary for DWave:\n",
      "{(0, 1): '-1', (0, 2): '-1', (1, 2): '-1', (3, 4): '-1', (3, 5): '-1', (4, 5): '-1'}\n",
      "this is the dictionary for the user:\n",
      "order of the basis: x y x' y'\n",
      "{(0, 0, 0, 1): '-1', (0, 0, 0, 2): '-1', (0, 1, 0, 2): '-1', (1, 0, 1, 1): '-1', (1, 0, 1, 2): '-1', (1, 1, 1, 2): '-1'}\n"
     ]
    }
   ],
   "source": [
    "z = {}\n",
    "\n",
    "Q = {}\n",
    "\n",
    "for i1 in x.keys():\n",
    "    for j1 in y.keys():\n",
    "        index_i = i1*len(y) + j1\n",
    "        for i2 in x.keys():\n",
    "            for j2 in y.keys():\n",
    "                if i1!=i2: continue\n",
    "                if j1>=j2: continue\n",
    "                index_j = i2*len(y) + j2    \n",
    "                z[(i1,j1,i2,j2)] = \"-1\"  # the last tuple are the index of the matrix Q\n",
    "                Q[(index_i, index_j)] = \"-1\"\n",
    "\n",
    "print(\"this is the input dictionary for DWave:\")\n",
    "                \n",
    "print(Q)\n",
    "                   \n",
    "print(\"this is the dictionary for the user:\")\n",
    "print(\"order of the basis: x y x' y'\")              \n",
    "    \n",
    "    \n",
    "print(z)"
   ]
  }
 ],
 "metadata": {
  "kernelspec": {
   "display_name": "Python 3",
   "language": "python",
   "name": "python3"
  },
  "language_info": {
   "codemirror_mode": {
    "name": "ipython",
    "version": 3
   },
   "file_extension": ".py",
   "mimetype": "text/x-python",
   "name": "python",
   "nbconvert_exporter": "python",
   "pygments_lexer": "ipython3",
   "version": "3.8.3"
  }
 },
 "nbformat": 4,
 "nbformat_minor": 4
}
